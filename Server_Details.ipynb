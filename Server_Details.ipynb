{
 "cells": [
  {
   "cell_type": "markdown",
   "id": "a5001546-954c-424b-9e40-0184629cfc0e",
   "metadata": {},
   "source": [
    "## Script for getting server details"
   ]
  },
  {
   "cell_type": "code",
   "execution_count": null,
   "id": "3231b221-9f8a-404b-96e9-909b00dfd17e",
   "metadata": {},
   "outputs": [],
   "source": [
    "import platform"
   ]
  },
  {
   "cell_type": "code",
   "execution_count": 3,
   "id": "fcfa2934-504e-491c-b98a-d8f66a34ebd2",
   "metadata": {},
   "outputs": [
    {
     "name": "stdout",
     "output_type": "stream",
     "text": [
      "System: Windows\n",
      "Node Name: Rushikesh-PC\n",
      "Release: 10\n",
      "Version: 10.0.19044\n",
      "Machine: AMD64\n",
      "Processor: Intel64 Family 6 Model 61 Stepping 4, GenuineIntel\n"
     ]
    }
   ],
   "source": [
    "my_system = platform.uname()\n",
    " \n",
    "print(f\"System: {my_system.system}\")\n",
    "print(f\"Node Name: {my_system.node}\")\n",
    "print(f\"Release: {my_system.release}\")\n",
    "print(f\"Version: {my_system.version}\")\n",
    "print(f\"Machine: {my_system.machine}\")\n",
    "print(f\"Processor: {my_system.processor}\")"
   ]
  }
 ],
 "metadata": {
  "kernelspec": {
   "display_name": "Python 3 (ipykernel)",
   "language": "python",
   "name": "python3"
  },
  "language_info": {
   "codemirror_mode": {
    "name": "ipython",
    "version": 3
   },
   "file_extension": ".py",
   "mimetype": "text/x-python",
   "name": "python",
   "nbconvert_exporter": "python",
   "pygments_lexer": "ipython3",
   "version": "3.9.12"
  }
 },
 "nbformat": 4,
 "nbformat_minor": 5
}
