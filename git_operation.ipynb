{
 "cells": [
  {
   "cell_type": "markdown",
   "id": "48ccfa84-3944-434a-ad7e-3fede540ef17",
   "metadata": {},
   "source": [
    "## To Install git package for python"
   ]
  },
  {
   "cell_type": "code",
   "execution_count": null,
   "id": "62418a0d-cb5c-4739-b66e-ff844d0baea7",
   "metadata": {},
   "outputs": [],
   "source": [
    "pip install GitPython"
   ]
  },
  {
   "cell_type": "markdown",
   "id": "3c6d71b6-f2c0-4301-8808-8dd66caddfd9",
   "metadata": {},
   "source": [
    "### import git "
   ]
  },
  {
   "cell_type": "code",
   "execution_count": 2,
   "id": "fa58125b-8cbe-4550-86f3-61f363bc2978",
   "metadata": {},
   "outputs": [
    {
     "data": {
      "text/plain": [
       "<git.repo.base.Repo 'C:\\\\Users\\\\Rushikesh\\\\python_script\\\\.git'>"
      ]
     },
     "execution_count": 2,
     "metadata": {},
     "output_type": "execute_result"
    }
   ],
   "source": [
    "from git import Repo\n",
    "Repo.clone_from(\"https://github.com/rushikeshdikey/my_python_scripts.git\", \"python_script\")"
   ]
  },
  {
   "cell_type": "code",
   "execution_count": 3,
   "id": "3b481988-548c-4a3d-8412-b5a4a05fefa2",
   "metadata": {},
   "outputs": [
    {
     "name": "stdout",
     "output_type": "stream",
     "text": [
      "main\n",
      "my_new_branch\n",
      "\n",
      "Rushikesh Dikey\n",
      "updated Readme.md\n",
      "1663078093\n",
      "1663078093\n",
      "Rushikesh Dikey\n",
      "updated new script details with all links\n",
      "1662827077\n",
      "1662827077\n",
      "Rushikesh Dikey\n",
      "random_password generator added\n",
      "1662826796\n",
      "1662826796\n",
      "Rushikesh Dikey\n",
      "upadated names\n",
      "1662565040\n",
      "1662565040\n",
      "Rushikesh Dikey\n",
      "Merge pull request #4 from rushikeshdikey/new_script\n",
      "\n",
      "script for server details\n",
      "1662483643\n",
      "1662483643\n",
      "Rushikesh Dikey\n",
      "script for server details\n",
      "1662483582\n",
      "1662483582\n",
      "Rushikesh Dikey\n",
      "Merge pull request #3 from rushikeshdikey/new_script\n",
      "\n",
      "compare two files script\n",
      "1662385614\n",
      "1662385614\n",
      "Rushikesh Dikey\n",
      "updated chnages as per PR comment\n",
      "1662385567\n",
      "1662385567\n",
      "Rushikesh Dikey\n",
      "added script for comparing files\n",
      "1662050261\n",
      "1662050261\n",
      "Rushikesh Dikey\n",
      "Merge pull request #1 from rushikeshdikey/new_script\n",
      "\n",
      "added script to check domain name\n",
      "1661940950\n",
      "1661940950\n",
      "Rushikesh Dikey\n",
      "added script to check domain name\n",
      "1661940839\n",
      "1661940839\n",
      "Rushikesh Dikey\n",
      "added script to find number of files in folder\n",
      "1661880491\n",
      "1661880491\n",
      "Rushikesh Dikey\n",
      "Update README.md\n",
      "1661879954\n",
      "1661879954\n",
      "Rushikesh Dikey\n",
      "Initial commit\n",
      "1661879935\n",
      "1661879935\n"
     ]
    }
   ],
   "source": [
    "repo = Repo('/python_script/')\n",
    "\n",
    "# List all branches\n",
    "for branch in repo.branches:\n",
    "    print(branch)\n",
    "\n",
    "# Create a new branch\n",
    "#repo.git.branch('my_new_branch')\n",
    "\n",
    "# To checkout to a branch:\n",
    "#repo.git.checkout('branch_name')\n",
    "\n",
    "# Check differences between current files and last commit\n",
    "diff = repo.git.diff(repo.head.commit.tree)\n",
    "print(diff)\n",
    "\n",
    "#Iterate 50 commits, and if you need paging, you can specify a number of commits to skip.\n",
    "commits = repo.iter_commits('main', max_count=50)\n",
    "for commit in commits:\n",
    "    print(commit.author) # author name\n",
    "    #print(commit.commiter) # name of the committer\n",
    "    print(commit.message) # will print the commit message\n",
    "    print(commit.committed_date) # will print the date in which the commit made.\n",
    "    print(commit.committed_date) # will print the date and time in which the commit made.\n",
    "    # you can get more attribute"
   ]
  },
  {
   "cell_type": "code",
   "execution_count": null,
   "id": "0f80036e-cef8-4926-ac3b-0238b8b69933",
   "metadata": {},
   "outputs": [],
   "source": []
  }
 ],
 "metadata": {
  "kernelspec": {
   "display_name": "Python 3 (ipykernel)",
   "language": "python",
   "name": "python3"
  },
  "language_info": {
   "codemirror_mode": {
    "name": "ipython",
    "version": 3
   },
   "file_extension": ".py",
   "mimetype": "text/x-python",
   "name": "python",
   "nbconvert_exporter": "python",
   "pygments_lexer": "ipython3",
   "version": "3.9.12"
  }
 },
 "nbformat": 4,
 "nbformat_minor": 5
}
