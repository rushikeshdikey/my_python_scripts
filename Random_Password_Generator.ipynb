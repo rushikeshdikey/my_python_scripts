{
 "cells": [
  {
   "cell_type": "markdown",
   "id": "f16caaf8",
   "metadata": {},
   "source": [
    "## Script for random password generation"
   ]
  },
  {
   "cell_type": "code",
   "execution_count": 9,
   "id": "cf04bf32",
   "metadata": {},
   "outputs": [
    {
     "name": "stdout",
     "output_type": "stream",
     "text": [
      "Random password: ->\\@(TMrV\n"
     ]
    }
   ],
   "source": [
    "import string\n",
    "from random import *\n",
    "\n",
    "characters = string.ascii_letters + string.punctuation  + string.digits\n",
    "password =  \"\".join(choice(characters) for x in range(randint(8, 16)))\n",
    "\n",
    "print(\"Random password: \" + password)"
   ]
  }
 ],
 "metadata": {
  "kernelspec": {
   "display_name": "Python 3 (ipykernel)",
   "language": "python",
   "name": "python3"
  },
  "language_info": {
   "codemirror_mode": {
    "name": "ipython",
    "version": 3
   },
   "file_extension": ".py",
   "mimetype": "text/x-python",
   "name": "python",
   "nbconvert_exporter": "python",
   "pygments_lexer": "ipython3",
   "version": "3.9.12"
  }
 },
 "nbformat": 4,
 "nbformat_minor": 5
}
