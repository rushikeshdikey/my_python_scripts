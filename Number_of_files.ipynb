{
 "cells": [
  {
   "cell_type": "code",
   "execution_count": null,
   "id": "00df1882-6cad-4f8d-9bf9-cb9663fc450f",
   "metadata": {},
   "outputs": [],
   "source": [
    "import os"
   ]
  },
  {
   "cell_type": "markdown",
   "id": "e5091ae5-1d32-42a0-bf3d-b34e11475d20",
   "metadata": {},
   "source": [
    "### Script to find number of files in given path"
   ]
  },
  {
   "cell_type": "code",
   "execution_count": null,
   "id": "e4203c79-4b8d-4cc6-95dd-f36dbecec03e",
   "metadata": {},
   "outputs": [],
   "source": [
    "# Take input of path\n",
    "PATH = input(\"Enter the path:\")\n",
    "\n",
    "fileCount = 0\n",
    "dirCount = 0\n",
    "\n",
    "# to iterate through path \n",
    "for root, dirs, files in os.walk(PATH):\n",
    "    print(\"Lokking in:\", root)\n",
    "    for directories in dirs:\n",
    "        dirCount += 1\n",
    "    for Files in files:\n",
    "        fileCount += 1\n",
    "        \n",
    "# print all the details       \n",
    "print(\"Number of files\", fileCount)\n",
    "print(\"Number of Directories\", dirCount)\n",
    "print(\"Total:\", (dirCount + fileCount))"
   ]
  }
 ],
 "metadata": {
  "kernelspec": {
   "display_name": "Python 3 (ipykernel)",
   "language": "python",
   "name": "python3"
  },
  "language_info": {
   "codemirror_mode": {
    "name": "ipython",
    "version": 3
   },
   "file_extension": ".py",
   "mimetype": "text/x-python",
   "name": "python",
   "nbconvert_exporter": "python",
   "pygments_lexer": "ipython3",
   "version": "3.9.12"
  }
 },
 "nbformat": 4,
 "nbformat_minor": 5
}
