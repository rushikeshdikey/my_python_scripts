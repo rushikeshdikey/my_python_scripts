{
 "cells": [
  {
   "cell_type": "code",
   "execution_count": 7,
   "id": "4db092b7-e529-4c47-b3f7-d77ea0417a02",
   "metadata": {},
   "outputs": [
    {
     "name": "stdin",
     "output_type": "stream",
     "text": [
      "Enter file_name_1 f1.txt\n",
      "Enter file_name_2 f2.txt\n"
     ]
    },
    {
     "name": "stdout",
     "output_type": "stream",
     "text": [
      "['qwerty\\n', 'asdfgh\\n', 'zxcvbn\\n']\n",
      "['ytrewq\\n', 'asdfgh\\n', 'nbvcxz\\n']\n",
      "--- file1.txt\n",
      "+++ file2.txt\n",
      "@@ -1,3 +1,3 @@\n",
      "-qwerty\n",
      "\n",
      "+ytrewq\n",
      "\n",
      " asdfgh\n",
      "\n",
      "-zxcvbn\n",
      "\n",
      "+nbvcxz\n",
      "\n"
     ]
    }
   ],
   "source": [
    "import difflib\n",
    "from difflib import Differ\n",
    "\n",
    "file_1 = input(\"Enter file_name_1\")\n",
    "file_2 = input(\"Enter file_name_2\")\n",
    "\n",
    "# Approach one\n",
    "with open(file_1) as read_file_1:\n",
    "    file_1_text = read_file_1.readlines()\n",
    "    print(file_1_text)\n",
    "with open(file_2) as read_file_2:\n",
    "    file_2_text = read_file_2.readlines()\n",
    "    print(file_2_text)\n",
    "# Find and print the diff:\n",
    "for line in difflib.unified_diff(\n",
    "        file_1_text, file_2_text, fromfile='file1.txt',\n",
    "        tofile='file2.txt', lineterm=''):\n",
    "    print(line)\n",
    "\n",
    "# Approach two\n",
    "# Find and print using differ:    \n",
    "# with open(file_1) as file_1, open(file_2) as file_2:\n",
    "#     differ = Differ()\n",
    " \n",
    "#     for line in differ.compare(file_1.readlines(), file_2.readlines()):\n",
    "#         print(line)\n",
    "#         print(line.replace(file_1.readlines(), file_2.readlines()))\n",
    "        "
   ]
  },
  {
   "cell_type": "code",
   "execution_count": null,
   "id": "f447327d-0aee-4183-9f1f-5987668e1c39",
   "metadata": {},
   "outputs": [],
   "source": []
  }
 ],
 "metadata": {
  "kernelspec": {
   "display_name": "Python 3 (ipykernel)",
   "language": "python",
   "name": "python3"
  },
  "language_info": {
   "codemirror_mode": {
    "name": "ipython",
    "version": 3
   },
   "file_extension": ".py",
   "mimetype": "text/x-python",
   "name": "python",
   "nbconvert_exporter": "python",
   "pygments_lexer": "ipython3",
   "version": "3.9.12"
  }
 },
 "nbformat": 4,
 "nbformat_minor": 5
}
