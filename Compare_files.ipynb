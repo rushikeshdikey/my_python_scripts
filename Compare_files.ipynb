{
 "cells": [
  {
   "cell_type": "code",
   "execution_count": null,
   "id": "b0733d9f-4f63-424e-b629-55da6200956c",
   "metadata": {},
   "outputs": [],
   "source": [
    "import os"
   ]
  },
  {
   "cell_type": "code",
   "execution_count": 13,
   "id": "277da6ae-80fe-4308-b5c8-4d4f1255174f",
   "metadata": {},
   "outputs": [
    {
     "name": "stdin",
     "output_type": "stream",
     "text": [
      "Enter the path: \n"
     ]
    },
    {
     "name": "stdout",
     "output_type": "stream",
     "text": [
      "Number of files 0\n",
      "Number of Directories 0\n",
      "Total: 0\n"
     ]
    }
   ],
   "source": [
    "# Take input of path\n",
    "PATH = input(\"Enter the path:\")\n",
    "\n",
    "fileCount = 0\n",
    "dirCount = 0\n",
    "\n",
    "# to iterate through path \n",
    "for root, dirs, files in os.walk(PATH):\n",
    "    print(\"Lokking in:\", root)\n",
    "    for directories in dirs:\n",
    "        dirCount += 1\n",
    "    for Files in files:\n",
    "        fileCount += 1\n",
    "        \n",
    "# print all the details       \n",
    "print(\"Number of files\", fileCount)\n",
    "print(\"Number of Directories\", dirCount)\n",
    "print(\"Total:\", (dirCount + fileCount))"
   ]
  },
  {
   "cell_type": "code",
   "execution_count": 7,
   "id": "c1508069-6616-402e-922a-4bacb5035080",
   "metadata": {},
   "outputs": [
    {
     "name": "stdin",
     "output_type": "stream",
     "text": [
      "Enter the list items: 5 6 9 4 3 6\n"
     ]
    },
    {
     "name": "stdout",
     "output_type": "stream",
     "text": [
      "[6, 6, 9, 4, 3, 5]\n"
     ]
    }
   ],
   "source": [
    "def swapList(newList):\n",
    "    size = len(newList)\n",
    "    \n",
    "    temp = newList[0]\n",
    "    newList[0] = newList[size - 1]\n",
    "    newList[size - 1] = temp\n",
    "    \n",
    "    return newList\n",
    "\n",
    "newList = []\n",
    "newList = [int(item) for item in input(\"Enter the list items:\").split()]\n",
    "\n",
    "print(swapList(newList))"
   ]
  },
  {
   "cell_type": "code",
   "execution_count": 9,
   "id": "f3d87062-4a5b-48cc-8a24-35d057c08822",
   "metadata": {},
   "outputs": [
    {
     "name": "stdout",
     "output_type": "stream",
     "text": [
      "Collecting python-whois\n",
      "  Downloading python-whois-0.8.0.tar.gz (109 kB)\n",
      "Requirement already satisfied: future in c:\\users\\rushikesh\\anaconda3\\lib\\site-packages (from python-whois) (0.18.2)\n",
      "Building wheels for collected packages: python-whois\n",
      "  Building wheel for python-whois (setup.py): started\n",
      "  Building wheel for python-whois (setup.py): finished with status 'done'\n",
      "  Created wheel for python-whois: filename=python_whois-0.8.0-py3-none-any.whl size=103263 sha256=ec85c797f70c3d6d6d43c573a415bb2c6ec09f67e882cf62db8d470b70e68d1c\n",
      "  Stored in directory: c:\\users\\rushikesh\\appdata\\local\\pip\\cache\\wheels\\e6\\e9\\d3\\1e41a6c95b398de12c5a332ff28805aa44e68aa317ea60266d\n",
      "Successfully built python-whois\n",
      "Installing collected packages: python-whois\n",
      "Successfully installed python-whois-0.8.0\n",
      "Note: you may need to restart the kernel to use updated packages.\n"
     ]
    }
   ],
   "source": [
    "pip install python-whois"
   ]
  },
  {
   "cell_type": "code",
   "execution_count": 14,
   "id": "320f3052-08d7-4d89-a452-5a3bf227292d",
   "metadata": {},
   "outputs": [
    {
     "name": "stdin",
     "output_type": "stream",
     "text": [
      "Enter the Domain: \n"
     ]
    },
    {
     "name": "stdout",
     "output_type": "stream",
     "text": [
      "domain_name : None\n",
      "registrar : None\n",
      "whois_server : None\n",
      "referral_url : None\n",
      "updated_date : None\n",
      "creation_date : None\n",
      "expiration_date : None\n",
      "name_servers : None\n",
      "status : None\n",
      "emails : None\n",
      "dnssec : None\n",
      "name : None\n",
      "org : None\n",
      "address : None\n",
      "city : None\n",
      "state : None\n",
      "registrant_postal_code : None\n",
      "country : None\n"
     ]
    }
   ],
   "source": [
    "import whois\n",
    "domain = input(\"Enter the Domain:\")\n",
    "domain_info = whois.whois(domain)\n",
    "\n",
    "for key, value in domain_info.items():\n",
    "    print(key, ':', value)"
   ]
  },
  {
   "cell_type": "code",
   "execution_count": 33,
   "id": "4db092b7-e529-4c47-b3f7-d77ea0417a02",
   "metadata": {},
   "outputs": [
    {
     "name": "stdin",
     "output_type": "stream",
     "text": [
      "Enter file_name_1 f1.txt\n",
      "Enter file_name_2 f2.txt\n"
     ]
    },
    {
     "name": "stdout",
     "output_type": "stream",
     "text": [
      "['qwerty\\n', 'asdfgh\\n', 'zxcvbn\\n']\n",
      "['ytrewq\\n', 'asdfgh\\n', 'nbvcxz\\n']\n",
      "--- file1.txt\n",
      "+++ file2.txt\n",
      "@@ -1,3 +1,3 @@\n",
      "-qwerty\n",
      "\n",
      "+ytrewq\n",
      "\n",
      " asdfgh\n",
      "\n",
      "-zxcvbn\n",
      "\n",
      "+nbvcxz\n",
      "\n",
      "- qwerty\n",
      "\n"
     ]
    },
    {
     "ename": "TypeError",
     "evalue": "replace() argument 1 must be str, not list",
     "output_type": "error",
     "traceback": [
      "\u001b[1;31m---------------------------------------------------------------------------\u001b[0m",
      "\u001b[1;31mTypeError\u001b[0m                                 Traceback (most recent call last)",
      "Input \u001b[1;32mIn [33]\u001b[0m, in \u001b[0;36m<cell line: 21>\u001b[1;34m()\u001b[0m\n\u001b[0;32m     24\u001b[0m \u001b[38;5;28;01mfor\u001b[39;00m line \u001b[38;5;129;01min\u001b[39;00m differ\u001b[38;5;241m.\u001b[39mcompare(file_1\u001b[38;5;241m.\u001b[39mreadlines(), file_2\u001b[38;5;241m.\u001b[39mreadlines()):\n\u001b[0;32m     25\u001b[0m     \u001b[38;5;28mprint\u001b[39m(line)\n\u001b[1;32m---> 26\u001b[0m     \u001b[38;5;28mprint\u001b[39m(\u001b[43mline\u001b[49m\u001b[38;5;241;43m.\u001b[39;49m\u001b[43mreplace\u001b[49m\u001b[43m(\u001b[49m\u001b[43mfile_1\u001b[49m\u001b[38;5;241;43m.\u001b[39;49m\u001b[43mreadlines\u001b[49m\u001b[43m(\u001b[49m\u001b[43m)\u001b[49m\u001b[43m,\u001b[49m\u001b[43m \u001b[49m\u001b[43mfile_2\u001b[49m\u001b[38;5;241;43m.\u001b[39;49m\u001b[43mreadlines\u001b[49m\u001b[43m(\u001b[49m\u001b[43m)\u001b[49m\u001b[43m)\u001b[49m)\n",
      "\u001b[1;31mTypeError\u001b[0m: replace() argument 1 must be str, not list"
     ]
    }
   ],
   "source": [
    "from difflib import Differ\n",
    "\n",
    "file_1 = input(\"Enter file_name_1\")\n",
    "file_2 = input(\"Enter file_name_2\")\n",
    "\n",
    "# Approach one\n",
    "with open(file_1) as read_file_1:\n",
    "    file_1_text = read_file_1.readlines()\n",
    "    print(file_1_text)\n",
    "with open(file_2) as read_file_2:\n",
    "    file_2_text = read_file_2.readlines()\n",
    "    print(file_2_text)\n",
    "# Find and print the diff:\n",
    "for line in difflib.unified_diff(\n",
    "        file_1_text, file_2_text, fromfile='file1.txt',\n",
    "        tofile='file2.txt', lineterm=''):\n",
    "    print(line)\n",
    "\n",
    "# Approach two\n",
    "# Find and print using differ:    \n",
    "with open(file_1) as file_1, open(file_2) as file_2:\n",
    "    differ = Differ()\n",
    " \n",
    "    for line in differ.compare(file_1.readlines(), file_2.readlines()):\n",
    "        print(line)\n",
    "        print(line.replace(file_1.readlines(), file_2.readlines()))\n",
    "        "
   ]
  },
  {
   "cell_type": "code",
   "execution_count": 28,
   "id": "6b28275d-60a1-4728-9d1c-b0674639af7c",
   "metadata": {},
   "outputs": [
    {
     "name": "stdin",
     "output_type": "stream",
     "text": [
      " i love you dont love me\n"
     ]
    },
    {
     "name": "stdout",
     "output_type": "stream",
     "text": [
      "i hate you dont love me\n",
      "i love you dont love me\n"
     ]
    }
   ],
   "source": [
    "string_1 =input()\n",
    "\n",
    "print(string_1.replace(\"love\", \"hate\", 1))\n",
    "\n",
    "print(string_1)"
   ]
  },
  {
   "cell_type": "code",
   "execution_count": null,
   "id": "f447327d-0aee-4183-9f1f-5987668e1c39",
   "metadata": {},
   "outputs": [],
   "source": []
  }
 ],
 "metadata": {
  "kernelspec": {
   "display_name": "Python 3 (ipykernel)",
   "language": "python",
   "name": "python3"
  },
  "language_info": {
   "codemirror_mode": {
    "name": "ipython",
    "version": 3
   },
   "file_extension": ".py",
   "mimetype": "text/x-python",
   "name": "python",
   "nbconvert_exporter": "python",
   "pygments_lexer": "ipython3",
   "version": "3.9.12"
  }
 },
 "nbformat": 4,
 "nbformat_minor": 5
}
