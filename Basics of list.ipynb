{
 "cells": [
  {
   "cell_type": "code",
   "execution_count": 145,
   "id": "fbf23b99",
   "metadata": {},
   "outputs": [
    {
     "data": {
      "text/plain": [
       "[1, 2, 3, 4, 5]"
      ]
     },
     "execution_count": 145,
     "metadata": {},
     "output_type": "execute_result"
    }
   ],
   "source": [
    "x = [1, 2, 3, 4, 5]\n",
    "x[:]"
   ]
  },
  {
   "cell_type": "code",
   "execution_count": 146,
   "id": "8c8a171e",
   "metadata": {},
   "outputs": [
    {
     "data": {
      "text/plain": [
       "[1, 2, 3, 4, 5]"
      ]
     },
     "execution_count": 146,
     "metadata": {},
     "output_type": "execute_result"
    }
   ],
   "source": [
    "x = [1, 2, 3, 4, 5]\n",
    "x[:5]"
   ]
  },
  {
   "cell_type": "code",
   "execution_count": 147,
   "id": "7880ce22",
   "metadata": {},
   "outputs": [
    {
     "data": {
      "text/plain": [
       "[2, 3, 4, 5]"
      ]
     },
     "execution_count": 147,
     "metadata": {},
     "output_type": "execute_result"
    }
   ],
   "source": [
    "x = [1, 2, 3, 4, 5]\n",
    "x[1:]"
   ]
  },
  {
   "cell_type": "code",
   "execution_count": 151,
   "id": "6474b74f",
   "metadata": {},
   "outputs": [
    {
     "data": {
      "text/plain": [
       "[1, 3, 5, 7]"
      ]
     },
     "execution_count": 151,
     "metadata": {},
     "output_type": "execute_result"
    }
   ],
   "source": [
    "x = [1, 2, 3, 4, 5, 6, 7]\n",
    "x[::2]"
   ]
  },
  {
   "cell_type": "code",
   "execution_count": 47,
   "id": "d57fbe10",
   "metadata": {},
   "outputs": [
    {
     "name": "stdout",
     "output_type": "stream",
     "text": [
      "[1, 2, 3, 5, 4, 5]\n"
     ]
    }
   ],
   "source": [
    "x = [1, 2, 3, 4, 5]\n",
    "#x.remove(3)\n",
    "#x.pop(3)\n",
    "x.insert(3,5)\n",
    "print(x)"
   ]
  },
  {
   "cell_type": "code",
   "execution_count": 144,
   "id": "2b59fd97",
   "metadata": {},
   "outputs": [
    {
     "name": "stdout",
     "output_type": "stream",
     "text": [
      "Enter number between 1 to 9:1\n",
      "Enter number between 1 to 9:2\n",
      "Enter number between 1 to 9:3\n",
      "Enter number between 1 to 9:4\n",
      "Enter number between 1 to 9:5\n",
      "Enter number between 1 to 9:0\n",
      "[1, 2, 3, 4, 5]\n"
     ]
    }
   ],
   "source": [
    "user_input = int(input(\"Enter number between 1 to 9:\"))\n",
    "user_list = []\n",
    "user_list.append(user_input)\n",
    "while user_input !=0:\n",
    "    user = int(input(\"Enter number between 1 to 9:\"))\n",
    "    \n",
    "    if user <= 9:\n",
    "        user_list.append(user)\n",
    "    if len(user_list) <= 9:\n",
    "        if user != 0:\n",
    "            continue\n",
    "        else:\n",
    "            break\n",
    "print(user_list[:-1])"
   ]
  },
  {
   "cell_type": "code",
   "execution_count": null,
   "id": "f1dce784",
   "metadata": {},
   "outputs": [],
   "source": []
  }
 ],
 "metadata": {
  "kernelspec": {
   "display_name": "Python 3 (ipykernel)",
   "language": "python",
   "name": "python3"
  },
  "language_info": {
   "codemirror_mode": {
    "name": "ipython",
    "version": 3
   },
   "file_extension": ".py",
   "mimetype": "text/x-python",
   "name": "python",
   "nbconvert_exporter": "python",
   "pygments_lexer": "ipython3",
   "version": "3.9.12"
  }
 },
 "nbformat": 4,
 "nbformat_minor": 5
}
