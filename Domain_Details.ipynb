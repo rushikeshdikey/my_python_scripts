{
 "cells": [
  {
   "cell_type": "code",
   "execution_count": 2,
   "id": "26b134ef-3f71-4a78-9301-5394dd4cc3a7",
   "metadata": {},
   "outputs": [],
   "source": [
    "import whois"
   ]
  },
  {
   "cell_type": "markdown",
   "id": "d1a81d59-ad53-4872-ab91-1b2fe6f7dbe4",
   "metadata": {},
   "source": [
    "### Script to get any domain name details"
   ]
  },
  {
   "cell_type": "code",
   "execution_count": 3,
   "id": "144ec84a-243a-408a-a68a-854dafe515af",
   "metadata": {},
   "outputs": [
    {
     "name": "stdin",
     "output_type": "stream",
     "text": [
      "Enter the Domain: https://github.com/\n"
     ]
    },
    {
     "name": "stdout",
     "output_type": "stream",
     "text": [
      "domain_name : ['GITHUB.COM', 'github.com']\n",
      "registrar : MarkMonitor, Inc.\n",
      "whois_server : whois.markmonitor.com\n",
      "referral_url : None\n",
      "updated_date : 2020-09-08 09:18:27\n",
      "creation_date : 2007-10-09 18:20:50\n",
      "expiration_date : [datetime.datetime(2022, 10, 9, 18, 20, 50), datetime.datetime(2022, 10, 9, 7, 0)]\n",
      "name_servers : ['DNS1.P08.NSONE.NET', 'DNS2.P08.NSONE.NET', 'DNS3.P08.NSONE.NET', 'DNS4.P08.NSONE.NET', 'NS-1283.AWSDNS-32.ORG', 'NS-1707.AWSDNS-21.CO.UK', 'NS-421.AWSDNS-52.COM', 'NS-520.AWSDNS-01.NET', 'dns1.p08.nsone.net', 'dns4.p08.nsone.net', 'ns-1283.awsdns-32.org', 'ns-421.awsdns-52.com', 'dns2.p08.nsone.net', 'ns-1707.awsdns-21.co.uk', 'ns-520.awsdns-01.net', 'dns3.p08.nsone.net']\n",
      "status : ['clientDeleteProhibited https://icann.org/epp#clientDeleteProhibited', 'clientTransferProhibited https://icann.org/epp#clientTransferProhibited', 'clientUpdateProhibited https://icann.org/epp#clientUpdateProhibited', 'clientUpdateProhibited (https://www.icann.org/epp#clientUpdateProhibited)', 'clientTransferProhibited (https://www.icann.org/epp#clientTransferProhibited)', 'clientDeleteProhibited (https://www.icann.org/epp#clientDeleteProhibited)']\n",
      "emails : ['abusecomplaints@markmonitor.com', 'whoisrequest@markmonitor.com']\n",
      "dnssec : unsigned\n",
      "name : None\n",
      "org : GitHub, Inc.\n",
      "address : None\n",
      "city : None\n",
      "state : CA\n",
      "registrant_postal_code : None\n",
      "country : US\n"
     ]
    }
   ],
   "source": [
    "# enter the domain name of whose details you want to check\n",
    "domain = input(\"Enter the Domain:\")\n",
    "domain_info = whois.whois(domain)\n",
    "\n",
    "for key, value in domain_info.items():\n",
    "    print(key, ':', value)"
   ]
  },
  {
   "cell_type": "code",
   "execution_count": null,
   "id": "57e02030-00d0-4447-98fa-1481243ac0e4",
   "metadata": {},
   "outputs": [],
   "source": []
  }
 ],
 "metadata": {
  "kernelspec": {
   "display_name": "Python 3 (ipykernel)",
   "language": "python",
   "name": "python3"
  },
  "language_info": {
   "codemirror_mode": {
    "name": "ipython",
    "version": 3
   },
   "file_extension": ".py",
   "mimetype": "text/x-python",
   "name": "python",
   "nbconvert_exporter": "python",
   "pygments_lexer": "ipython3",
   "version": "3.9.12"
  }
 },
 "nbformat": 4,
 "nbformat_minor": 5
}
